{
  "nbformat": 4,
  "nbformat_minor": 0,
  "metadata": {
    "colab": {
      "provenance": [],
      "authorship_tag": "ABX9TyMe+QJ2yEGPWMTIetdVgyvD",
      "include_colab_link": true
    },
    "kernelspec": {
      "name": "python3",
      "display_name": "Python 3"
    },
    "language_info": {
      "name": "python"
    }
  },
  "cells": [
    {
      "cell_type": "markdown",
      "metadata": {
        "id": "view-in-github",
        "colab_type": "text"
      },
      "source": [
        "<a href=\"https://colab.research.google.com/github/adzmatheus/alura-imersao-ia/blob/main/LLM_chat.ipynb\" target=\"_parent\"><img src=\"https://colab.research.google.com/assets/colab-badge.svg\" alt=\"Open In Colab\"/></a>"
      ]
    },
    {
      "cell_type": "code",
      "execution_count": 2,
      "metadata": {
        "colab": {
          "base_uri": "https://localhost:8080/"
        },
        "id": "PSLh341OiPxy",
        "outputId": "6befa21c-4027-441b-dfb9-644756029ed7"
      },
      "outputs": [
        {
          "output_type": "stream",
          "name": "stdout",
          "text": [
            "Requirement already satisfied: google-generativeai in /usr/local/lib/python3.10/dist-packages (0.5.3)\n",
            "Requirement already satisfied: google-ai-generativelanguage==0.6.3 in /usr/local/lib/python3.10/dist-packages (from google-generativeai) (0.6.3)\n",
            "Requirement already satisfied: google-api-core in /usr/local/lib/python3.10/dist-packages (from google-generativeai) (2.11.1)\n",
            "Requirement already satisfied: google-api-python-client in /usr/local/lib/python3.10/dist-packages (from google-generativeai) (2.84.0)\n",
            "Requirement already satisfied: google-auth>=2.15.0 in /usr/local/lib/python3.10/dist-packages (from google-generativeai) (2.27.0)\n",
            "Requirement already satisfied: protobuf in /usr/local/lib/python3.10/dist-packages (from google-generativeai) (3.20.3)\n",
            "Requirement already satisfied: pydantic in /usr/local/lib/python3.10/dist-packages (from google-generativeai) (2.7.1)\n",
            "Requirement already satisfied: tqdm in /usr/local/lib/python3.10/dist-packages (from google-generativeai) (4.66.4)\n",
            "Requirement already satisfied: typing-extensions in /usr/local/lib/python3.10/dist-packages (from google-generativeai) (4.11.0)\n",
            "Requirement already satisfied: proto-plus<2.0.0dev,>=1.22.3 in /usr/local/lib/python3.10/dist-packages (from google-ai-generativelanguage==0.6.3->google-generativeai) (1.23.0)\n",
            "Requirement already satisfied: cachetools<6.0,>=2.0.0 in /usr/local/lib/python3.10/dist-packages (from google-auth>=2.15.0->google-generativeai) (5.3.3)\n",
            "Requirement already satisfied: pyasn1-modules>=0.2.1 in /usr/local/lib/python3.10/dist-packages (from google-auth>=2.15.0->google-generativeai) (0.4.0)\n",
            "Requirement already satisfied: rsa<5,>=3.1.4 in /usr/local/lib/python3.10/dist-packages (from google-auth>=2.15.0->google-generativeai) (4.9)\n",
            "Requirement already satisfied: googleapis-common-protos<2.0.dev0,>=1.56.2 in /usr/local/lib/python3.10/dist-packages (from google-api-core->google-generativeai) (1.63.0)\n",
            "Requirement already satisfied: requests<3.0.0.dev0,>=2.18.0 in /usr/local/lib/python3.10/dist-packages (from google-api-core->google-generativeai) (2.31.0)\n",
            "Requirement already satisfied: httplib2<1dev,>=0.15.0 in /usr/local/lib/python3.10/dist-packages (from google-api-python-client->google-generativeai) (0.22.0)\n",
            "Requirement already satisfied: google-auth-httplib2>=0.1.0 in /usr/local/lib/python3.10/dist-packages (from google-api-python-client->google-generativeai) (0.1.1)\n",
            "Requirement already satisfied: uritemplate<5,>=3.0.1 in /usr/local/lib/python3.10/dist-packages (from google-api-python-client->google-generativeai) (4.1.1)\n",
            "Requirement already satisfied: annotated-types>=0.4.0 in /usr/local/lib/python3.10/dist-packages (from pydantic->google-generativeai) (0.6.0)\n",
            "Requirement already satisfied: pydantic-core==2.18.2 in /usr/local/lib/python3.10/dist-packages (from pydantic->google-generativeai) (2.18.2)\n",
            "Requirement already satisfied: grpcio<2.0dev,>=1.33.2 in /usr/local/lib/python3.10/dist-packages (from google-api-core->google-generativeai) (1.63.0)\n",
            "Requirement already satisfied: grpcio-status<2.0.dev0,>=1.33.2 in /usr/local/lib/python3.10/dist-packages (from google-api-core->google-generativeai) (1.48.2)\n",
            "Requirement already satisfied: pyparsing!=3.0.0,!=3.0.1,!=3.0.2,!=3.0.3,<4,>=2.4.2 in /usr/local/lib/python3.10/dist-packages (from httplib2<1dev,>=0.15.0->google-api-python-client->google-generativeai) (3.1.2)\n",
            "Requirement already satisfied: pyasn1<0.7.0,>=0.4.6 in /usr/local/lib/python3.10/dist-packages (from pyasn1-modules>=0.2.1->google-auth>=2.15.0->google-generativeai) (0.6.0)\n",
            "Requirement already satisfied: charset-normalizer<4,>=2 in /usr/local/lib/python3.10/dist-packages (from requests<3.0.0.dev0,>=2.18.0->google-api-core->google-generativeai) (3.3.2)\n",
            "Requirement already satisfied: idna<4,>=2.5 in /usr/local/lib/python3.10/dist-packages (from requests<3.0.0.dev0,>=2.18.0->google-api-core->google-generativeai) (3.7)\n",
            "Requirement already satisfied: urllib3<3,>=1.21.1 in /usr/local/lib/python3.10/dist-packages (from requests<3.0.0.dev0,>=2.18.0->google-api-core->google-generativeai) (2.0.7)\n",
            "Requirement already satisfied: certifi>=2017.4.17 in /usr/local/lib/python3.10/dist-packages (from requests<3.0.0.dev0,>=2.18.0->google-api-core->google-generativeai) (2024.2.2)\n"
          ]
        }
      ],
      "source": [
        "!pip install -U google-generativeai\n",
        "import google.generativeai as genai\n",
        "from google.colab import userdata"
      ]
    },
    {
      "cell_type": "code",
      "source": [
        "GOOGLE_API_KEY = userdata.get('SECRET_KEY')\n",
        "genai.configure(api_key=GOOGLE_API_KEY)\n",
        "\n",
        "generation_config = {\n",
        "                \"max_output_tokens\":2048,\n",
        "                \"temperature\": 0.5,\n",
        "                \"candidate_count\": 1,\n",
        "                \"top_p\":1,\n",
        "                \"top_k\":32\n",
        "}"
      ],
      "metadata": {
        "id": "rmXzaUrJixOW"
      },
      "execution_count": 30,
      "outputs": []
    },
    {
      "cell_type": "code",
      "source": [
        "for m in genai.list_models():\n",
        "  if 'generateContent' in m.supported_generation_methods:\n",
        "    print(m.name)"
      ],
      "metadata": {
        "colab": {
          "base_uri": "https://localhost:8080/",
          "height": 156
        },
        "id": "P9NEjlA3jpR4",
        "outputId": "12a9e96f-f5d0-4b10-f918-b64adc240fa5"
      },
      "execution_count": 4,
      "outputs": [
        {
          "output_type": "stream",
          "name": "stdout",
          "text": [
            "models/gemini-1.0-pro\n",
            "models/gemini-1.0-pro-001\n",
            "models/gemini-1.0-pro-latest\n",
            "models/gemini-1.0-pro-vision-latest\n",
            "models/gemini-1.5-flash-latest\n",
            "models/gemini-1.5-pro-latest\n",
            "models/gemini-pro\n",
            "models/gemini-pro-vision\n"
          ]
        }
      ]
    },
    {
      "cell_type": "code",
      "source": [
        "model = genai.GenerativeModel('gemini-pro', generation_config= generation_config)"
      ],
      "metadata": {
        "id": "bq4HtHqGj_mz"
      },
      "execution_count": 31,
      "outputs": []
    },
    {
      "cell_type": "code",
      "source": [
        "%%time\n",
        "response = model.generate_content(\"Liste exemplos de tipos de IA\", stream=True)"
      ],
      "metadata": {
        "colab": {
          "base_uri": "https://localhost:8080/",
          "height": 52
        },
        "id": "b6PbcFNLkK4b",
        "outputId": "11db7dd4-c353-412c-af7f-b9da23269582"
      },
      "execution_count": 8,
      "outputs": [
        {
          "output_type": "stream",
          "name": "stdout",
          "text": [
            "CPU times: user 141 ms, sys: 12.4 ms, total: 153 ms\n",
            "Wall time: 7.75 s\n"
          ]
        }
      ]
    },
    {
      "cell_type": "code",
      "source": [
        "print(\"Resposta: \")\n",
        "for chunk in response:\n",
        "  print(chunk.text)"
      ],
      "metadata": {
        "colab": {
          "base_uri": "https://localhost:8080/"
        },
        "id": "sTdwLdu2k-8J",
        "outputId": "9e348946-1e71-4d8d-b989-7d0be5b17fc5"
      },
      "execution_count": 9,
      "outputs": [
        {
          "output_type": "stream",
          "name": "stdout",
          "text": [
            "Resposta: \n",
            "**Aprendizado de Máquina (ML)**\n",
            "\n",
            "* Aprendizado Supervisionado (\n",
            "ex: Regressão, Classificação)\n",
            "* Aprendizado Não Supervisionado (ex: Agrupamento, Redução de Dimensionalidade)\n",
            "* Aprendizado\n",
            " por Reforço\n",
            "\n",
            "**Processamento de Linguagem Natural (PNL)**\n",
            "\n",
            "* Reconhecimento de Fala\n",
            "* Geração de Linguagem Natural (NLG)\n",
            "* Tradução Automática\n",
            "* Processamento de Linguagem Assistida por Computador (CLAP)\n",
            "\n",
            "**Visão Comp\n",
            "utacional**\n",
            "\n",
            "* Reconhecimento de Objetos\n",
            "* Detecção de Objetos\n",
            "* Segmentação de Imagem\n",
            "* Geração de Imagem\n",
            "\n",
            "**IA Explicável (XAI)**\n",
            "\n",
            "* Explicações Pós-Hoc (ex: LIME, SHAP)\n",
            "* Métodos Integráveis (ex: Árvores de Decisão, Regressão Linear)\n",
            "\n",
            "**Aprendizado Profundo (DL)**\n",
            "\n",
            "* Redes Neurais Artificiais (ANN)\n",
            "* Redes Neurais Convolucionais (CNN)\n",
            "* Redes Neurais Recorrentes (RNN)\n",
            "* Transformers\n",
            "\n",
            "\n",
            "**Aprendizado Automatizado de Máquina (AutoML)**\n",
            "\n",
            "* Otimização de Hiperparâmetros\n",
            "* Seleção de Recursos\n",
            "* Arquitetura de Rede Neural\n",
            "\n",
            "**IA Adversária**\n",
            "\n",
            "* Ataques Adversários\n",
            "* Defesas Adversárias\n",
            "* Geração Adversária\n",
            "\n",
            "**IA Simbólica**\n",
            "\n",
            "* Sistemas Baseados em Regras\n",
            "* Sistemas de Raziocínio Automatizado\n",
            "* Planejamento Automatizado\n",
            "\n",
            "**IA Híbrida**\n",
            "\n",
            "* Combinação de diferentes tipos de IA\n",
            "* Exemplo: Aprendizado de Máquina + Processamento de Linguagem Natural\n"
          ]
        }
      ]
    },
    {
      "cell_type": "code",
      "source": [
        "chat = model.start_chat(history=[])\n",
        "\n",
        "boas_vindas = \"* Bem vindo ao assistente virtual Gemini *\"\n",
        "print (len(boas_vindas) * \"#\")\n",
        "print (boas_vindas)\n",
        "print (len(boas_vindas) * \"#\")\n",
        "print (\"Digite 'sair' para encerrar o chat\", \"\\n\")"
      ],
      "metadata": {
        "colab": {
          "base_uri": "https://localhost:8080/"
        },
        "id": "FB1Xh8Chmiww",
        "outputId": "a8caf8c0-74a1-4ec0-c5c1-0dea28ccb365"
      },
      "execution_count": 11,
      "outputs": [
        {
          "output_type": "stream",
          "name": "stdout",
          "text": [
            "##########################################\n",
            "* Bem vindo ao assistente virtual Gemini *\n",
            "##########################################\n",
            "Digite 'sair' para encerrar o chat \n",
            "\n"
          ]
        }
      ]
    },
    {
      "cell_type": "code",
      "source": [
        "while True:\n",
        "  texto = input(\"Sua mensagem: \")\n",
        "\n",
        "  if texto == \"sair\":\n",
        "    break\n",
        "\n",
        "  response = chat.send_message(texto)\n",
        "  print(\"Gemini: \", response.text, \"\\n\")\n",
        "\n",
        "print (\"Chat encerrado\")"
      ],
      "metadata": {
        "colab": {
          "base_uri": "https://localhost:8080/",
          "height": 558
        },
        "id": "u5NyLkztnlgD",
        "outputId": "646e3723-08e6-4c10-a6c8-9676652553ad"
      },
      "execution_count": 12,
      "outputs": [
        {
          "output_type": "stream",
          "name": "stdout",
          "text": [
            "Sua mensagem: Olá gege\n",
            "Gemini:  Não sou seu gege. \n",
            "\n",
            "Sua mensagem: por que não?\n",
            "Gemini:  Porque este não é meu papel. \n",
            "\n",
            "Sua mensagem: qual seu papel?\n",
            "Gemini:  Sou um assistente de IA projetado para ajudar com uma variedade de tarefas. \n",
            "\n",
            "Sua mensagem: me ajude a finalizar essa conversa\n",
            "Gemini:  Claro, aqui estão algumas maneiras de finalizar esta conversa:\n",
            "\n",
            "* **Agradeça à outra pessoa pelo seu tempo.** Por exemplo, você poderia dizer: \"Obrigado pelo seu tempo hoje. Eu realmente aprecio sua ajuda.\"\n",
            "* **Faça uma pergunta à outra pessoa.** Isso pode ajudá-lo a manter a conversa fluindo. Por exemplo, você pode perguntar: \"Há mais alguma coisa em que eu possa ajudá-lo hoje?\"\n",
            "* **Faça uma declaração sobre o clima ou o ambiente ao seu redor.** Isso pode ajudar a criar um clima mais descontraído. Por exemplo, você poderia dizer: \"Está um dia lindo hoje, não é?\"\n",
            "* **Deseje à outra pessoa um bom dia ou uma boa noite.** Isso pode ajudar a encerrar a conversa com uma nota positiva. Por exemplo, você poderia dizer: \"Tenha um bom dia!\"\n",
            "\n",
            "Aqui está um exemplo de como você pode usar essas dicas para finalizar esta conversa:\n",
            "\n",
            "Você: \"Obrigado pelo seu tempo hoje. Eu realmente aprecio sua ajuda.\"\n",
            "Outro: \"De nada. Fico feliz em ajudar.\"\n",
            "Você: \"Há mais alguma coisa em que eu possa ajudá-lo hoje?\"\n",
            "Outro: \"Não, acho que estou bem.\"\n",
            "Você: \"Está um dia lindo hoje, não é?\"\n",
            "Outro: \"Sim, está mesmo.\"\n",
            "Você: \"Tenha um bom dia!\"\n",
            "Outro: \"Você também.\" \n",
            "\n",
            "Sua mensagem: sair\n",
            "Chat encerrado\n"
          ]
        }
      ]
    },
    {
      "cell_type": "code",
      "source": [],
      "metadata": {
        "id": "AEcg-xZtu9Ch"
      },
      "execution_count": null,
      "outputs": []
    }
  ]
}